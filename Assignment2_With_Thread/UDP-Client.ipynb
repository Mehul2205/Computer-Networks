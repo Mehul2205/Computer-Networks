{
 "cells": [
  {
   "cell_type": "code",
   "execution_count": 1,
   "metadata": {},
   "outputs": [
    {
     "name": "stdout",
     "output_type": "stream",
     "text": [
      "Message from Server Hello UDP Client\n",
      "Enter your reply  hi\n",
      "ccj\n",
      "bjj\n",
      "Enter your reply  msg\n",
      "ffgkf\n",
      "Enter your reply  mn\n",
      "fkfj\n",
      "Enter your reply  mn\n",
      "fghhf\n",
      "Enter your reply  nm\n",
      "Enter your reply  bye\n"
     ]
    },
    {
     "ename": "SystemExit",
     "evalue": "0",
     "output_type": "error",
     "traceback": [
      "An exception has occurred, use %tb to see the full traceback.\n",
      "\u001b[1;31mSystemExit\u001b[0m\u001b[1;31m:\u001b[0m 0\n"
     ]
    },
    {
     "name": "stderr",
     "output_type": "stream",
     "text": [
      "C:\\Users\\prach\\Anaconda3\\lib\\site-packages\\IPython\\core\\interactiveshell.py:3275: UserWarning: To exit: use 'exit', 'quit', or Ctrl-D.\n",
      "  warn(\"To exit: use 'exit', 'quit', or Ctrl-D.\", stacklevel=1)\n"
     ]
    },
    {
     "name": "stdout",
     "output_type": "stream",
     "text": [
      "km\n"
     ]
    }
   ],
   "source": [
    "import socket,sys,threading\n",
    "msgFromClient = \"Hello UDP Server\"\n",
    "bytesToSend = str.encode(msgFromClient)\n",
    "serverAddressPort = (\"192.168.104.78\", 20001)\n",
    "bufferSize = 1024\n",
    "def recv():\n",
    "    while True:\n",
    "        recieve= UDPClientSocket.recvfrom(bufferSize)\n",
    "        if not recieve[0]: sys.exit(0)\n",
    "        print (recieve[0].decode('utf-8'))\n",
    "        \n",
    "def Send(sA):\n",
    "    while True:\n",
    "        msg=input(\"Enter your reply  \")\n",
    "        UDPClientSocket.sendto(msg.encode('utf-8'),sA)\n",
    "        if msg=='bye':\n",
    "            sys.exit(0)\n",
    "\n",
    "# Create a UDP socket at client side\n",
    "UDPClientSocket = socket.socket(family=socket.AF_INET, type=socket.SOCK_DGRAM)\n",
    "\n",
    "# Send to server using created UDP socket\n",
    "UDPClientSocket.sendto(bytesToSend, serverAddressPort)\n",
    "\n",
    "msgFromServer = UDPClientSocket.recvfrom(bufferSize)\n",
    "\n",
    "msg = \"Message from Server {}\".format(msgFromServer[0].decode('utf-8'))\n",
    "print(msg)\n",
    "\n",
    "\n",
    "while(True): \n",
    "    threading.Thread(target=recv).start()\n",
    "    threading.Thread(target=Send(serverAddressPort)).start()\n",
    "    "
   ]
  },
  {
   "cell_type": "code",
   "execution_count": null,
   "metadata": {},
   "outputs": [],
   "source": []
  }
 ],
 "metadata": {
  "kernelspec": {
   "display_name": "Python 3",
   "language": "python",
   "name": "python3"
  },
  "language_info": {
   "codemirror_mode": {
    "name": "ipython",
    "version": 3
   },
   "file_extension": ".py",
   "mimetype": "text/x-python",
   "name": "python",
   "nbconvert_exporter": "python",
   "pygments_lexer": "ipython3",
   "version": "3.7.1"
  }
 },
 "nbformat": 4,
 "nbformat_minor": 2
}
