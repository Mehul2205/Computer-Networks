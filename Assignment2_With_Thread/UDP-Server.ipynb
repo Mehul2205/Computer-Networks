{
 "cells": [
  {
   "cell_type": "code",
   "execution_count": null,
   "metadata": {},
   "outputs": [
    {
     "name": "stdout",
     "output_type": "stream",
     "text": [
      "UDP server up and listening\n",
      "Message from Client:b'Hello UDP Server'\n",
      "Client IP Address:('192.168.104.75', 53883)\n",
      "hi\n",
      "how re you\n",
      "Enter your reply  ketj\n",
      "Enter your reply  kfk\n",
      "Enter your reply  bye\n",
      "Connection closed\n",
      "Message from Client:b'Hello UDP Server'\n",
      "Client IP Address:('192.168.104.75', 64043)\n",
      "hi\n",
      "how are you\n",
      "Enter your reply  dbfjb\n",
      "Enter your reply  bye\n",
      "Enter your reply  cv \n",
      "Connection closed\n",
      "Message from Client:b'Hello UDP Server'\n",
      "Client IP Address:('192.168.104.75', 50047)\n",
      "hi\n",
      "how are you\n",
      "Enter your reply  jl\n",
      "Connection closed\n"
     ]
    }
   ],
   "source": [
    "import socket,threading\n",
    "localIP     = \"192.168.104.78\"\n",
    "localPort   = 20001\n",
    "bufferSize  = 1024\n",
    "msgFromServer = \"Hello UDP Client\"\n",
    "flag=1\n",
    "bytesToSend = str.encode(msgFromServer)\n",
    "\n",
    "# Create a datagram socket\n",
    "UDPServerSocket = socket.socket(family=socket.AF_INET, type=socket.SOCK_DGRAM)\n",
    "\n",
    "# Bind to address and ip\n",
    "UDPServerSocket.bind((localIP, localPort))\n",
    "print(\"UDP server up and listening\")\n",
    "\n",
    "def recv(): \n",
    "    global flag\n",
    "    while True:\n",
    "        recieve= UDPServerSocket.recvfrom(bufferSize)\n",
    "        if recieve[0].decode('utf-8')=='bye':\n",
    "            flag=0\n",
    "            break\n",
    "        print (recieve[0].decode('utf-8'))\n",
    "            \n",
    "        \n",
    "def Send(a):\n",
    "    global flag\n",
    "    while True:\n",
    "        if flag==0:\n",
    "            print(\"Connection closed\")\n",
    "            break\n",
    "        message=input(\"Enter your reply  \")\n",
    "        UDPServerSocket.sendto(message.encode('utf-8'),a)\n",
    "        \n",
    "        \n",
    "# Listen for incoming datagrams\n",
    "while(True):\n",
    "    flag=1\n",
    "    bytesAddressPair = UDPServerSocket.recvfrom(bufferSize)\n",
    "\n",
    "    message = bytesAddressPair[0]\n",
    "    address = bytesAddressPair[1]\n",
    "\n",
    "    clientMsg = \"Message from Client:{}\".format(message)\n",
    "    clientIP  = \"Client IP Address:{}\".format(address)\n",
    "    \n",
    "    print(clientMsg)\n",
    "    print(clientIP)\n",
    "\n",
    "    UDPServerSocket.sendto(bytesToSend, address)\n",
    "    threading.Thread(target=recv).start()\n",
    "    threading.Thread(target=Send(address)).start()\n",
    "    \n",
    "\n",
    "   "
   ]
  },
  {
   "cell_type": "code",
   "execution_count": null,
   "metadata": {},
   "outputs": [],
   "source": []
  },
  {
   "cell_type": "code",
   "execution_count": null,
   "metadata": {},
   "outputs": [],
   "source": []
  },
  {
   "cell_type": "code",
   "execution_count": null,
   "metadata": {},
   "outputs": [],
   "source": []
  }
 ],
 "metadata": {
  "kernelspec": {
   "display_name": "Python 3",
   "language": "python",
   "name": "python3"
  },
  "language_info": {
   "codemirror_mode": {
    "name": "ipython",
    "version": 3
   },
   "file_extension": ".py",
   "mimetype": "text/x-python",
   "name": "python",
   "nbconvert_exporter": "python",
   "pygments_lexer": "ipython3",
   "version": "3.7.1"
  }
 },
 "nbformat": 4,
 "nbformat_minor": 2
}
