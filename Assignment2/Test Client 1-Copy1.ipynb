{
 "cells": [
  {
   "cell_type": "code",
   "execution_count": 1,
   "metadata": {},
   "outputs": [
    {
     "name": "stdout",
     "output_type": "stream",
     "text": [
      "From Server : This is from Client\n",
      "5\n",
      "From Server : 5\n",
      "6+9+8+10\n",
      "From Server : 33\n",
      "bye\n"
     ]
    }
   ],
   "source": [
    "import socket\n",
    "SERVER = \"127.0.0.1\"\n",
    "PORT = 8080\n",
    "client = socket.socket(socket.AF_INET, socket.SOCK_STREAM)\n",
    "client.connect((SERVER, PORT))\n",
    "client.sendall(bytes(\"This is from Client\",'UTF-8'))\n",
    "while True:\n",
    "    in_data =  client.recv(1024)\n",
    "    print(\"From Server :\" ,in_data.decode())\n",
    "    out_data = input()\n",
    "    client.sendall(bytes(out_data,'UTF-8'))\n",
    "    if out_data=='bye':\n",
    "        break\n",
    "client.close()"
   ]
  },
  {
   "cell_type": "code",
   "execution_count": null,
   "metadata": {},
   "outputs": [],
   "source": []
  },
  {
   "cell_type": "code",
   "execution_count": null,
   "metadata": {},
   "outputs": [],
   "source": []
  }
 ],
 "metadata": {
  "kernelspec": {
   "display_name": "Python 3",
   "language": "python",
   "name": "python3"
  },
  "language_info": {
   "codemirror_mode": {
    "name": "ipython",
    "version": 3
   },
   "file_extension": ".py",
   "mimetype": "text/x-python",
   "name": "python",
   "nbconvert_exporter": "python",
   "pygments_lexer": "ipython3",
   "version": "3.7.3"
  }
 },
 "nbformat": 4,
 "nbformat_minor": 2
}
