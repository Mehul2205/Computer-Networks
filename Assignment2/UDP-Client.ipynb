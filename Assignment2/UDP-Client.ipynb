{
 "cells": [
  {
   "cell_type": "code",
   "execution_count": 2,
   "metadata": {},
   "outputs": [
    {
     "name": "stdout",
     "output_type": "stream",
     "text": [
      "Message from Server Hello UDP Client\n",
      "Enter your message  bye\n"
     ]
    }
   ],
   "source": [
    "import socket\n",
    "msgFromClient = \"Hello UDP Server\"\n",
    "bytesToSend = str.encode(msgFromClient)\n",
    "serverAddressPort = (\"127.0.0.1\", 20001)\n",
    "bufferSize = 1024\n",
    "\n",
    "# Create a UDP socket at client side\n",
    "UDPClientSocket = socket.socket(family=socket.AF_INET, type=socket.SOCK_DGRAM)\n",
    "\n",
    "# Send to server using created UDP socket\n",
    "UDPClientSocket.sendto(bytesToSend, serverAddressPort)\n",
    "\n",
    "msgFromServer = UDPClientSocket.recvfrom(bufferSize)\n",
    "\n",
    "msg = \"Message from Server {}\".format(msgFromServer[0].decode('utf-8'))\n",
    "print(msg)\n",
    "\n",
    "\n",
    "while(True): \n",
    "    # receive data from the server\n",
    "    while True:\n",
    "        msg=input(\"Enter your message  \")\n",
    "        UDPClientSocket.sendto(msg.encode('utf-8'),serverAddressPort)\n",
    "        if msg == 'O&O'or msg=='bye':\n",
    "            break\n",
    "    if msg == 'bye':\n",
    "        break\n",
    "    while True:\n",
    "        recieve=UDPClientSocket.recvfrom(bufferSize)\n",
    "        if recieve[0].decode('utf-8') == 'O&O':\n",
    "            break\n",
    "        print (recieve[0].decode('utf-8')) "
   ]
  },
  {
   "cell_type": "code",
   "execution_count": null,
   "metadata": {},
   "outputs": [],
   "source": []
  },
  {
   "cell_type": "code",
   "execution_count": null,
   "metadata": {},
   "outputs": [],
   "source": []
  }
 ],
 "metadata": {
  "kernelspec": {
   "display_name": "Python 3",
   "language": "python",
   "name": "python3"
  },
  "language_info": {
   "codemirror_mode": {
    "name": "ipython",
    "version": 3
   },
   "file_extension": ".py",
   "mimetype": "text/x-python",
   "name": "python",
   "nbconvert_exporter": "python",
   "pygments_lexer": "ipython3",
   "version": "3.7.1"
  }
 },
 "nbformat": 4,
 "nbformat_minor": 2
}
