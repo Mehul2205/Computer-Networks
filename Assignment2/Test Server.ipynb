{
 "cells": [
  {
   "cell_type": "code",
   "execution_count": null,
   "metadata": {},
   "outputs": [],
   "source": [
    "import socket, threading, re\n",
    "class ClientThread(threading.Thread):\n",
    "    def __init__(self,clientAddress,clientsocket):\n",
    "        threading.Thread.__init__(self)\n",
    "        self.csocket = clientsocket\n",
    "        self.cA = clientAddress\n",
    "        print (\"New connection added: \", self.cA)\n",
    "    def run(self):\n",
    "        print (\"Connection from : \", self.cA)\n",
    "        msg = ''\n",
    "        while True:\n",
    "            data = self.csocket.recv(2048)\n",
    "            msg = data.decode()\n",
    "            if msg=='bye':\n",
    "                break\n",
    "            print (self.cA[1],':', msg)\n",
    "            if (re.search(r\"[+]\",msg)):\n",
    "                if (msg[1]=='+'):\n",
    "                    l= msg.split('+')\n",
    "                    l1=[int(i) for i in l]\n",
    "                    msg = str(sum(l1))                        \n",
    "            self.csocket.send(bytes(msg,'UTF-8'))\n",
    "        print (\"Client at \", self.cA , \" disconnected...\")\n",
    "LOCALHOST = \"127.0.0.1\"\n",
    "PORT = 8080\n",
    "server = socket.socket(socket.AF_INET, socket.SOCK_STREAM)\n",
    "server.setsockopt(socket.SOL_SOCKET, socket.SO_REUSEADDR, 1)\n",
    "server.bind((LOCALHOST, PORT))\n",
    "print(\"Server started\")\n",
    "print(\"Waiting for client request..\")\n",
    "while True:\n",
    "    server.listen(1)\n",
    "    clientsock, clientAddress = server.accept()\n",
    "    newthread = ClientThread(clientAddress, clientsock)\n",
    "    newthread.start()"
   ]
  },
  {
   "cell_type": "code",
   "execution_count": null,
   "metadata": {},
   "outputs": [],
   "source": []
  }
 ],
 "metadata": {
  "kernelspec": {
   "display_name": "Python 3",
   "language": "python",
   "name": "python3"
  },
  "language_info": {
   "codemirror_mode": {
    "name": "ipython",
    "version": 3
   },
   "file_extension": ".py",
   "mimetype": "text/x-python",
   "name": "python",
   "nbconvert_exporter": "python",
   "pygments_lexer": "ipython3",
   "version": "3.7.3"
  }
 },
 "nbformat": 4,
 "nbformat_minor": 2
}
