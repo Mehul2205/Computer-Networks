{
 "cells": [
  {
   "cell_type": "code",
   "execution_count": null,
   "metadata": {},
   "outputs": [],
   "source": [
    "import socket\n",
    "localIP     = \"127.0.0.1\"\n",
    "localPort   = 20001\n",
    "bufferSize  = 1024\n",
    "msgFromServer = \"Hello UDP Client\"\n",
    "bytesToSend = str.encode(msgFromServer)\n",
    "\n",
    "# Create a datagram socket\n",
    "UDPServerSocket = socket.socket(family=socket.AF_INET, type=socket.SOCK_DGRAM)\n",
    "\n",
    "# Bind to address and ip\n",
    "UDPServerSocket.bind((localIP, localPort))\n",
    "\n",
    "print(\"UDP server up and listening\")\n",
    "# Listen for incoming datagrams\n",
    "while(True):\n",
    "\n",
    "    bytesAddressPair = UDPServerSocket.recvfrom(bufferSize)\n",
    "\n",
    "    message = bytesAddressPair[0]\n",
    "    address = bytesAddressPair[1]\n",
    "\n",
    "    clientMsg = \"Message from Client:{}\".format(message)\n",
    "    clientIP  = \"Client IP Address:{}\".format(address)\n",
    "    \n",
    "    print(clientMsg)\n",
    "    print(clientIP)\n",
    "    # Sending a reply to client\n",
    "\n",
    "    UDPServerSocket.sendto(bytesToSend, address)\n",
    "    while True:\n",
    "        while True:\n",
    "            \n",
    "            recieve= UDPServerSocket.recvfrom(bufferSize)\n",
    "            if(recieve[0].decode('utf-8') == 'O&O' or recieve[0].decode('utf-8') == 'bye'):\n",
    "                break\n",
    "            print(recieve[0].decode('utf-8'))\n",
    "        if recieve[0].decode('utf-8') == 'bye':\n",
    "            break           \n",
    "        while True:\n",
    "            message=input(\"Enter your reply  \")\n",
    "            UDPServerSocket.sendto(message.encode('utf-8'),recieve[1])\n",
    "            if message == 'O&O':\n",
    "                break"
   ]
  },
  {
   "cell_type": "code",
   "execution_count": null,
   "metadata": {},
   "outputs": [],
   "source": []
  },
  {
   "cell_type": "code",
   "execution_count": null,
   "metadata": {},
   "outputs": [],
   "source": []
  },
  {
   "cell_type": "code",
   "execution_count": null,
   "metadata": {},
   "outputs": [],
   "source": []
  }
 ],
 "metadata": {
  "kernelspec": {
   "display_name": "Python 3",
   "language": "python",
   "name": "python3"
  },
  "language_info": {
   "codemirror_mode": {
    "name": "ipython",
    "version": 3
   },
   "file_extension": ".py",
   "mimetype": "text/x-python",
   "name": "python",
   "nbconvert_exporter": "python",
   "pygments_lexer": "ipython3",
   "version": "3.7.3"
  }
 },
 "nbformat": 4,
 "nbformat_minor": 2
}
